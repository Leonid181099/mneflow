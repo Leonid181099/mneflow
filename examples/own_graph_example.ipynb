{
 "cells": [
  {
   "cell_type": "markdown",
   "metadata": {},
   "source": [
    "# Specifying your own neural network with MNEflow"
   ]
  },
  {
   "cell_type": "code",
   "execution_count": 1,
   "metadata": {},
   "outputs": [],
   "source": [
    "# Here we use the same dataset as in the basic mneflow example\n",
    "from time import time\n",
    "import mne\n",
    "from mne.datasets import multimodal\n",
    "import mneflow\n",
    "\n",
    "mne.set_log_level(verbose='CRITICAL')\n",
    "\n",
    "fname_raw = os.path.join(multimodal.data_path(), 'multimodal_raw.fif')\n",
    "raw = mne.io.read_raw_fif(fname_raw)\n",
    "\n",
    "cond = raw.acqparser.get_condition(raw, None)\n",
    "condition_names = [k for c in cond for k,v in c['event_id'].items()]\n",
    "\n",
    "epochs_list = [mne.Epochs(raw, **c) for c in cond]\n",
    "epochs = mne.concatenate_epochs(epochs_list)\n",
    "#pick only planar gradiometers\n",
    "epochs = epochs.pick_types(meg='grad')"
   ]
  },
  {
   "cell_type": "code",
   "execution_count": 2,
   "metadata": {},
   "outputs": [
    {
     "name": "stdout",
     "output_type": "stream",
     "text": [
      "processing epochs\n",
      "input shapes: X- (940, 204, 361) targets- (940,)\n",
      "training set: X- (799, 204, 302)  y- (799, 8)\n",
      "validation set: X- (141, 204, 302)  y- (141, 8)\n",
      "train preprocessed: (799, 1, 302, 204) (799, 8)\n",
      "Prepocessed sample shape: (1, 302, 204)\n",
      "Target shape actual/metadata:  (8,) (8,)\n",
      "Saving TFRecord# 0\n"
     ]
    }
   ],
   "source": [
    "#Specify import options\n",
    "import_opt = dict(savepath='../tfr/',  # path where TFR files will be saved\n",
    "                  out_name='mne_sample_epochs',  # name of TFRecords files\n",
    "                  fs=600,\n",
    "                  input_type='trials',\n",
    "                  target_type='int',\n",
    "                  picks={'meg':'grad'},\n",
    "                  scale=True,  # apply baseline_scaling\n",
    "                  crop_baseline=True,  # remove baseline interval after scaling\n",
    "                  decimate=None,\n",
    "                  scale_interval=(0, 60),  # indices in time axis corresponding to baseline interval\n",
    "                  val_size=0.15,  # validation set size set to 15% of all data\n",
    "                  overwrite=True,\n",
    "                  segment=False,\n",
    "                  test_set='holdout')\n",
    "\n",
    "\n",
    "##since meta file already exists and overwrite=False produce_tfrecords does not need to repeat the preprocessing\n",
    "meta = mneflow.produce_tfrecords(epochs,**import_opt)  "
   ]
  },
  {
   "cell_type": "code",
   "execution_count": 3,
   "metadata": {},
   "outputs": [],
   "source": [
    "#let's make a simple peceptron-like classifier using all channels*timepoints as features with keras\n",
    "from tensorflow.keras.layers import Dense, Flatten, Activation\n",
    "from tensorflow.keras.constraints import max_norm\n",
    "\n",
    "class MyNetwork(mneflow.models.BaseModel):\n",
    "    #In the simplest case all you need to do is to override the computational graph with your own\n",
    "    def build_graph(self):\n",
    "        self.scope = 'custom_model'\n",
    "        flat = Flatten()(self.inputs)\n",
    "        self.fc = Dense(units=8, activation=\"softmax\")\n",
    "        y_pred = self.fc(flat)\n",
    "        return y_pred\n",
    "    \n",
    "    #the same can be done with Optimizer._set_optimizer method if you need to use a custom optimization pipeline  "
   ]
  },
  {
   "cell_type": "code",
   "execution_count": 5,
   "metadata": {},
   "outputs": [
    {
     "name": "stdout",
     "output_type": "stream",
     "text": [
      "ds batch size: 100\n",
      "ds batch size: 142\n",
      "setting batch size to default (100)\n",
      "ds batch size: 100\n",
      "Input shape: (1, 302, 204)\n",
      "y_pred: (None, 8)\n",
      "Initialization complete!\n",
      "Train for 100 steps, validate for 1 steps\n",
      "Epoch 1/5\n",
      "100/100 [==============================] - 10s 101ms/step - loss: 1.4154 - accuracy: 0.8574 - val_loss: 1.7004 - val_accuracy: 0.5775\n",
      "Epoch 2/5\n",
      "100/100 [==============================] - 9s 91ms/step - loss: 1.3296 - accuracy: 0.9441 - val_loss: 1.6258 - val_accuracy: 0.6479\n",
      "Epoch 3/5\n",
      "100/100 [==============================] - 9s 94ms/step - loss: 1.3207 - accuracy: 0.9531 - val_loss: 1.5872 - val_accuracy: 0.6761\n",
      "Epoch 4/5\n",
      "100/100 [==============================] - 9s 92ms/step - loss: 1.3170 - accuracy: 0.9570 - val_loss: 1.6060 - val_accuracy: 0.6761\n",
      "Epoch 5/5\n",
      "100/100 [==============================] - 9s 87ms/step - loss: 1.3112 - accuracy: 0.9629 - val_loss: 1.6044 - val_accuracy: 0.6761\n"
     ]
    }
   ],
   "source": [
    "graph_specs = dict(model_path=import_opt['savepath'],\n",
    "                   dropout=0.)\n",
    "dataset = mneflow.Dataset(meta, train_batch=100, class_subset=None, pick_channels=None, decim=None)\n",
    "model = MyNetwork(dataset, graph_specs)\n",
    "model.build()\n",
    "model.train(n_epochs=5, eval_step=100, early_stopping=3)"
   ]
  },
  {
   "cell_type": "markdown",
   "metadata": {},
   "source": [
    "### Since our custom model inherits some methods from the parent class we can e.g. plot the confusion matrix easily"
   ]
  },
  {
   "cell_type": "code",
   "execution_count": 6,
   "metadata": {},
   "outputs": [
    {
     "data": {
      "image/png": "[encoded data removed]",
      "text/plain": [
       "<Figure size 432x288 with 1 Axes>"
      ]
     },
     "metadata": {
      "needs_background": "light"
     },
     "output_type": "display_data"
    }
   ],
   "source": [
    "model.plot_hist()\n",
    "\n"
   ]
  }
 ],
 "metadata": {
  "kernelspec": {
   "display_name": "Python 3",
   "language": "python",
   "name": "python3"
  },
  "language_info": {
   "codemirror_mode": {
    "name": "ipython",
    "version": 3
   },
   "file_extension": ".py",
   "mimetype": "text/x-python",
   "name": "python",
   "nbconvert_exporter": "python",
   "pygments_lexer": "ipython3",
   "version": "3.7.3"
  }
 },
 "nbformat": 4,
 "nbformat_minor": 2
}

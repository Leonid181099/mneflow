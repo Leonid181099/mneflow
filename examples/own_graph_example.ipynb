{
 "cells": [
  {
   "cell_type": "markdown",
   "metadata": {},
   "source": [
    "# Specifying your own neural network with MNEflow"
   ]
  },
  {
   "cell_type": "code",
   "execution_count": 1,
   "metadata": {},
   "outputs": [
    {
     "name": "stdout",
     "output_type": "stream",
     "text": [
      "0.5.4\n"
     ]
    }
   ],
   "source": [
    "import numpy as np\n",
    "\n",
    "import mne\n",
    "mne.set_log_level(verbose='CRITICAL')\n",
    "from mne.datasets import multimodal\n",
    "\n",
    "import os\n",
    "os.environ['TF_CPP_MIN_LOG_LEVEL'] = '3'\n",
    "\n",
    "import tensorflow as tf\n",
    "tf.get_logger().setLevel('ERROR')\n",
    "tf.autograph.set_verbosity(0)\n",
    "\n",
    "import mneflow\n",
    "print(mneflow.__version__)"
   ]
  },
  {
   "cell_type": "code",
   "execution_count": 2,
   "metadata": {},
   "outputs": [
    {
     "name": "stdout",
     "output_type": "stream",
     "text": [
      "Metadata file found, restoring\n"
     ]
    }
   ],
   "source": [
    "import_opt = dict(path='C:\\\\data\\\\',\n",
    "                  data_id='mne_sample_multimodal',\n",
    "                  overwrite=False,\n",
    "                  )\n",
    "\n",
    "#here we use None instead of the first required argument\n",
    "meta = mneflow.produce_tfrecords(None, **import_opt)"
   ]
  },
  {
   "cell_type": "code",
   "execution_count": 9,
   "metadata": {},
   "outputs": [],
   "source": [
    "#let's make a simple peceptron-like classifier using all channels*timepoints as features with keras\n",
    "from tensorflow.keras.layers import Dense, Flatten, Activation\n",
    "from tensorflow.keras.constraints import max_norm\n",
    "\n",
    "class MyNetwork(mneflow.models.BaseModel):\n",
    "    #In the simplest case all you need to do is to override the computational graph with your own\n",
    "    def build_graph(self):\n",
    "        self.scope = 'custom_model'\n",
    "        flat = Flatten()(self.inputs)\n",
    "        self.fc = Dense(units=7, activation=\"softmax\")\n",
    "        y_pred = self.fc(flat)\n",
    "        return y_pred\n",
    "    \n",
    "    #the same can be done with Optimizer._set_optimizer method if you need to use a custom optimization pipeline  "
   ]
  },
  {
   "cell_type": "code",
   "execution_count": 10,
   "metadata": {},
   "outputs": [
    {
     "name": "stdout",
     "output_type": "stream",
     "text": [
      "Using class_subset with 7 classes:\n",
      "Subset ratio 1.00, Multiplier 1.00\n",
      "Using class_subset with 7 classes:\n",
      "Subset ratio 1.00, Multiplier 1.00\n",
      "Updating: meta.data\n",
      "Input shape: (1, 301, 204)\n",
      "y_pred: (None, 7)\n",
      "Initialization complete!\n",
      "Updating: meta.train_params\n",
      "Class weights:  None\n",
      "Using class_subset with 7 classes:\n",
      "Subset ratio 1.00, Multiplier 1.00\n",
      "Epoch 1/10\n"
     ]
    },
    {
     "name": "stderr",
     "output_type": "stream",
     "text": [
      "c:\\users\\ipzub\\appdata\\local\\programs\\python\\python38\\lib\\site-packages\\tensorflow\\python\\util\\dispatch.py:1096: UserWarning: \"`categorical_crossentropy` received `from_logits=True`, but the `output` argument was produced by a sigmoid or softmax activation and thus does not represent logits. Was this intended?\"\n",
      "  return dispatch_target(*args, **kwargs)\n"
     ]
    },
    {
     "name": "stdout",
     "output_type": "stream",
     "text": [
      "100/100 - 8s - loss: 0.1240 - cat_ACC: 0.9663 - val_loss: 1.4547 - val_cat_ACC: 0.7130 - 8s/epoch - 79ms/step\n",
      "Epoch 2/10\n",
      "100/100 - 8s - loss: 6.5062e-05 - cat_ACC: 1.0000 - val_loss: 1.4442 - val_cat_ACC: 0.7130 - 8s/epoch - 82ms/step\n",
      "Epoch 3/10\n",
      "100/100 - 8s - loss: 4.0714e-05 - cat_ACC: 1.0000 - val_loss: 1.4380 - val_cat_ACC: 0.7130 - 8s/epoch - 82ms/step\n",
      "Epoch 4/10\n",
      "100/100 - 8s - loss: 2.9510e-05 - cat_ACC: 1.0000 - val_loss: 1.4336 - val_cat_ACC: 0.7043 - 8s/epoch - 79ms/step\n",
      "Epoch 5/10\n",
      "100/100 - 8s - loss: 2.2976e-05 - cat_ACC: 1.0000 - val_loss: 1.4301 - val_cat_ACC: 0.7043 - 8s/epoch - 81ms/step\n",
      "Epoch 6/10\n",
      "100/100 - 8s - loss: 1.8680e-05 - cat_ACC: 1.0000 - val_loss: 1.4271 - val_cat_ACC: 0.7043 - 8s/epoch - 79ms/step\n",
      "Epoch 7/10\n",
      "100/100 - 8s - loss: 1.5631e-05 - cat_ACC: 1.0000 - val_loss: 1.4244 - val_cat_ACC: 0.7043 - 8s/epoch - 81ms/step\n",
      "Epoch 8/10\n",
      "100/100 - 8s - loss: 1.3351e-05 - cat_ACC: 1.0000 - val_loss: 1.4220 - val_cat_ACC: 0.7043 - 8s/epoch - 80ms/step\n",
      "Epoch 9/10\n",
      "100/100 - 8s - loss: 1.1580e-05 - cat_ACC: 1.0000 - val_loss: 1.4198 - val_cat_ACC: 0.7043 - 8s/epoch - 80ms/step\n",
      "Epoch 10/10\n",
      "100/100 - 8s - loss: 1.0168e-05 - cat_ACC: 1.0000 - val_loss: 1.4177 - val_cat_ACC: 0.7043 - 8s/epoch - 80ms/step\n",
      "Using class_subset with 7 classes:\n",
      "Subset ratio 1.00, Multiplier 1.00\n",
      "single_fold with 1 fold(s) completed. \n",
      "\n",
      "              Validation Performance: \n",
      "              Loss: 1.4177 +/- 0.0000.\n",
      "              Metric: 0.7043 +/- 0.0000\n",
      "\n",
      "\n",
      "              Test Performance: \n",
      "              Loss: 1.9207 +/- 0.0000.\n",
      "              Metric: 0.6496 +/- 0.0000\n",
      "Saving updated log to:  C:\\data\\models\\custom_model_log.csv\n"
     ]
    }
   ],
   "source": [
    "graph_specs = dict()\n",
    "dataset = mneflow.Dataset(meta, train_batch=25, class_subset=[0, 1, 2, 3, 4, 5, 6])\n",
    "model = MyNetwork(meta, dataset)\n",
    "model.build()\n",
    "model.train(n_epochs=10, eval_step=50, early_stopping=3)"
   ]
  },
  {
   "cell_type": "markdown",
   "metadata": {},
   "source": [
    "### Since our custom model inherits methods from the parent class we can e.g. plot the the confusion matrix"
   ]
  },
  {
   "cell_type": "code",
   "execution_count": 16,
   "metadata": {},
   "outputs": [
    {
     "name": "stdout",
     "output_type": "stream",
     "text": [
      "Confusion matrix, without normalization\n"
     ]
    },
    {
     "data": {
      "image/png": "[encoded data removed]",
      "text/plain": [
       "<Figure size 432x288 with 2 Axes>"
      ]
     },
     "metadata": {
      "needs_background": "light"
     },
     "output_type": "display_data"
    }
   ],
   "source": [
    "f = model.plot_confusion_matrix()"
   ]
  }
 ],
 "metadata": {
  "kernelspec": {
   "display_name": "Python 3 (ipykernel)",
   "language": "python",
   "name": "python3"
  },
  "language_info": {
   "codemirror_mode": {
    "name": "ipython",
    "version": 3
   },
   "file_extension": ".py",
   "mimetype": "text/x-python",
   "name": "python",
   "nbconvert_exporter": "python",
   "pygments_lexer": "ipython3",
   "version": "3.8.3"
  }
 },
 "nbformat": 4,
 "nbformat_minor": 2
}

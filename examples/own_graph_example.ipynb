{
 "cells": [
  {
   "cell_type": "markdown",
   "metadata": {},
   "source": [
    "# Specifying your own neural network with MNEflow"
   ]
  },
  {
   "cell_type": "code",
   "execution_count": 1,
   "metadata": {},
   "outputs": [
    {
     "name": "stdout",
     "output_type": "stream",
     "text": [
      "<Info | 26 non-empty fields\n",
      "    acq_pars : str | 12870 items\n",
      "    acq_stim : str | 45 items\n",
      "    bads : list | 0 items\n",
      "    ch_names : list | MEG 0113, MEG 0112, MEG 0122, MEG 0123, MEG 0132, ...\n",
      "    chs : list | 204 items (GRAD: 204)\n",
      "    comps : list | 0 items\n",
      "    custom_ref_applied : bool | False\n",
      "    description : str | 27 items\n",
      "    dev_head_t : Transform | 3 items\n",
      "    dig : Digitization | 21 items (3 Cardinal, 4 HPI, 14 Extra)\n",
      "    events : list | 1 items\n",
      "    experimenter : str | 8 items\n",
      "    file_id : dict | 4 items\n",
      "    highpass : float | 0.10000000149011612 Hz\n",
      "    hpi_meas : list | 1 items\n",
      "    hpi_results : list | 1 items\n",
      "    lowpass : float | 172.17630004882812 Hz\n",
      "    meas_date : tuple | 2011-04-26 11:33:18 GMT\n",
      "    meas_id : dict | 4 items\n",
      "    nchan : int | 204\n",
      "    proc_history : list | 0 items\n",
      "    proj_id : ndarray | 1 items\n",
      "    proj_name : str | 4 items\n",
      "    projs : list | grad_ssp_upright.fif : PCA-v1: on, ...\n",
      "    sfreq : float | 600.614990234375 Hz\n",
      "    subject_info : dict | 9 items\n",
      "    ctf_head_t : NoneType\n",
      "    dev_ctf_t : NoneType\n",
      "    device_info : NoneType\n",
      "    gantry_angle : NoneType\n",
      "    helium_info : NoneType\n",
      "    hpi_subsystem : NoneType\n",
      "    kit_system_id : NoneType\n",
      "    line_freq : NoneType\n",
      "    utc_offset : NoneType\n",
      "    xplotter_layout : NoneType\n",
      ">\n"
     ]
    }
   ],
   "source": [
    "# Here we use the same dataset as in the basic mneflow example\n",
    "import numpy as np\n",
    "\n",
    "import mne\n",
    "mne.set_log_level(verbose='CRITICAL')\n",
    "from mne.datasets import multimodal\n",
    "\n",
    "import os\n",
    "os.chdir(\"C:\\\\Users\\\\ipzub\\\\projs\\\\mneflow\")\n",
    "os.environ['TF_CPP_MIN_LOG_LEVEL'] = '3'\n",
    "\n",
    "import tensorflow as tf\n",
    "tf.get_logger().setLevel('ERROR')\n",
    "tf.autograph.set_verbosity(0)\n",
    "\n",
    "import mneflow\n",
    "\n",
    "\n",
    "fname_raw = os.path.join(multimodal.data_path(), 'multimodal_raw.fif')\n",
    "raw = mne.io.read_raw_fif(fname_raw)\n",
    "\n",
    "cond = raw.acqparser.get_condition(raw, None)\n",
    "# get the list of condition names\n",
    "condition_names = [k for c in cond for k,v in c['event_id'].items()]\n",
    "epochs_list = [mne.Epochs(raw, **c) for c in cond]\n",
    "epochs = mne.concatenate_epochs(epochs_list)\n",
    "epochs = epochs.pick_types(meg='grad')\n",
    "print(epochs.info)"
   ]
  },
  {
   "cell_type": "code",
   "execution_count": 2,
   "metadata": {},
   "outputs": [
    {
     "name": "stdout",
     "output_type": "stream",
     "text": [
      "Metadata file found, restoring\n"
     ]
    }
   ],
   "source": [
    "#Specify import options\n",
    "import_opt = dict(savepath='../tfr/',  # path where TFR files will be saved\n",
    "                  out_name='mne_sample_epochs',  # name of TFRecords files\n",
    "                  fs=600,\n",
    "                  input_type='trials',\n",
    "                  target_type='int',\n",
    "                  picks={'meg':'grad'},\n",
    "                  scale=True,  # apply baseline_scaling\n",
    "                  crop_baseline=True,  # remove baseline interval after scaling\n",
    "                  decimate=None,\n",
    "                  scale_interval=(0, 60),  # indices in time axis corresponding to baseline interval\n",
    "                  n_folds=5,  # validation set size set to 20% of all data\n",
    "                  overwrite=False,\n",
    "                  segment=False,\n",
    "                  test_set='holdout')\n",
    "\n",
    "\n",
    "##since meta file already exists and overwrite=False produce_tfrecords does not need to repeat the preprocessing\n",
    "meta = mneflow.produce_tfrecords(epochs,**import_opt)  \n",
    "#del epochs"
   ]
  },
  {
   "cell_type": "code",
   "execution_count": 4,
   "metadata": {},
   "outputs": [],
   "source": [
    "#let's make a simple peceptron-like classifier using all channels*timepoints as features with keras\n",
    "from tensorflow.keras.layers import Dense, Flatten, Activation\n",
    "from tensorflow.keras.constraints import max_norm\n",
    "\n",
    "class MyNetwork(mneflow.models.BaseModel):\n",
    "    #In the simplest case all you need to do is to override the computational graph with your own\n",
    "    def build_graph(self):\n",
    "        self.scope = 'custom_model'\n",
    "        flat = Flatten()(self.inputs)\n",
    "        self.fc = Dense(units=8, activation=\"softmax\")\n",
    "        y_pred = self.fc(flat)\n",
    "        return y_pred\n",
    "    \n",
    "    #the same can be done with Optimizer._set_optimizer method if you need to use a custom optimization pipeline  "
   ]
  },
  {
   "cell_type": "code",
   "execution_count": 7,
   "metadata": {},
   "outputs": [
    {
     "name": "stdout",
     "output_type": "stream",
     "text": [
      "Input shape: (1, 361, 204)\n",
      "y_pred: (None, 8)\n",
      "Initialization complete!\n",
      "Epoch 1/10\n",
      "100/100 - 9s - loss: 1.4411 - cat_ACC: 0.8290 - val_loss: 1.6348 - val_cat_ACC: 0.6270\n",
      "Epoch 2/10\n",
      "100/100 - 9s - loss: 1.3098 - cat_ACC: 0.9636 - val_loss: 1.6877 - val_cat_ACC: 0.5952\n",
      "Epoch 3/10\n",
      "100/100 - 9s - loss: 1.2995 - cat_ACC: 0.9741 - val_loss: 1.6722 - val_cat_ACC: 0.5952\n",
      "Epoch 4/10\n",
      "100/100 - 9s - loss: 1.2928 - cat_ACC: 0.9809 - val_loss: 1.6682 - val_cat_ACC: 0.6032\n",
      "1/1 [==============================] - 0s 2ms/step - loss: 1.6348 - cat_ACC: 0.6270\n",
      "Training complete: loss: 1.634806513786316, Metric: 0.6269841194152832\n",
      "1/1 [==============================] - 0s 2ms/step - loss: 1.2941 - cat_ACC: 0.9800\n",
      "1/1 [==============================] - 0s 2ms/step - loss: 1.6669 - cat_ACC: 0.6026\n",
      "Updating log: test loss: 1.6669 test metric: 0.6026\n"
     ]
    }
   ],
   "source": [
    "graph_specs = dict(model_path=import_opt['savepath'])\n",
    "dataset = mneflow.Dataset(meta, train_batch=100)\n",
    "model = MyNetwork(dataset, graph_specs)\n",
    "model.build()\n",
    "model.train(n_epochs=10, eval_step=100, early_stopping=3)"
   ]
  },
  {
   "cell_type": "markdown",
   "metadata": {},
   "source": [
    "### Since our custom model inherits some methods from the parent class we can e.g. plot the training history easily"
   ]
  },
  {
   "cell_type": "code",
   "execution_count": 8,
   "metadata": {},
   "outputs": [
    {
     "data": {
      "image/png": "[encoded data removed]",
      "text/plain": [
       "<Figure size 432x288 with 1 Axes>"
      ]
     },
     "metadata": {
      "needs_background": "light"
     },
     "output_type": "display_data"
    }
   ],
   "source": [
    "model.plot_hist()\n",
    "\n"
   ]
  }
 ],
 "metadata": {
  "kernelspec": {
   "display_name": "Python 3",
   "language": "python",
   "name": "python3"
  },
  "language_info": {
   "codemirror_mode": {
    "name": "ipython",
    "version": 3
   },
   "file_extension": ".py",
   "mimetype": "text/x-python",
   "name": "python",
   "nbconvert_exporter": "python",
   "pygments_lexer": "ipython3",
   "version": "3.8.3"
  }
 },
 "nbformat": 4,
 "nbformat_minor": 2
}

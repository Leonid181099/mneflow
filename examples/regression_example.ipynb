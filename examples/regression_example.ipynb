{
 "cells": [
  {
   "cell_type": "code",
   "execution_count": 1,
   "metadata": {},
   "outputs": [
    {
     "name": "stderr",
     "output_type": "stream",
     "text": [
      "WARNING: Logging before flag parsing goes to stderr.\n",
      "W0212 17:55:09.811821 140673010104064 deprecation.py:323] From /u/20/vranoug1/unix/.conda/envs/py3ml2/lib/python3.7/site-packages/tensorflow_core/python/compat/v2_compat.py:65: disable_resource_variables (from tensorflow.python.ops.variable_scope) is deprecated and will be removed in a future version.\n",
      "Instructions for updating:\n",
      "non-resource variables are not supported in the long term\n"
     ]
    },
    {
     "name": "stdout",
     "output_type": "stream",
     "text": [
      "Metadata file found, restoring\n"
     ]
    },
    {
     "name": "stderr",
     "output_type": "stream",
     "text": [
      "W0212 17:55:13.254986 140673010104064 deprecation.py:323] From /u/20/vranoug1/unix/.conda/envs/py3ml2/lib/python3.7/site-packages/mneflow/data.py:122: tf_record_iterator (from tensorflow.python.lib.io.tf_record) is deprecated and will be removed in a future version.\n",
      "Instructions for updating:\n",
      "Use eager execution and: \n",
      "`tf.data.TFRecordDataset(path)`\n"
     ]
    }
   ],
   "source": [
    "import warnings\n",
    "warnings.filterwarnings(\"ignore\", category=DeprecationWarning)\n",
    "warnings.filterwarnings(\"ignore\", category=PendingDeprecationWarning)\n",
    "warnings.filterwarnings(\"ignore\", category=FutureWarning)\n",
    "warnings.filterwarnings(\"ignore\", category=RuntimeWarning)\n",
    "\n",
    "import numpy as np\n",
    "import tensorflow as tf\n",
    "import os\n",
    "#os.chdir('/m/nbe/project/rtmeg/problearn/mneflow/')\n",
    "os.chdir('/u/20/vranoug1/unix/OPM-BCI/mneflow-dev/mneflow/')\n",
    "import mneflow\n",
    "from sklearn.preprocessing import MinMaxScaler\n",
    "\n",
    "path = '/m/nbe/work/vranoug1/OPM-BCI/datasets/'\n",
    "fname = 'sim_2_erps_50nA.npz'\n",
    "\n",
    "\n",
    "import_opt = dict(fs=500,\n",
    "                  savepath='../tfr/',\n",
    "                  out_name=fname+'0',\n",
    "                  input_type='trials',\n",
    "                  target_type='float',\n",
    "                  val_size=0.2,\n",
    "                  array_keys={'X': 'X', 'y': 'y'},\n",
    "                  # picks=None, target_picks=None,\n",
    "                  scale=True,\n",
    "                  scale_interval=None,\n",
    "                  # crop_baseline=True,\n",
    "                  decimate=None,\n",
    "                  bp_filter=False,\n",
    "                  overwrite=False,\n",
    "                  test_set='holdout')\n",
    "\n",
    "meta = mneflow.produce_tfrecords([path+fname], **import_opt)\n",
    "dataset = mneflow.Dataset(meta, train_batch=100, class_subset=None, pick_channels=None, decim=None)"
   ]
  },
  {
   "cell_type": "code",
   "execution_count": 2,
   "metadata": {},
   "outputs": [],
   "source": [
    "#optimizer_params = dict(l1_lambda=3e-4, learn_rate=3e-4, task='regression')\n",
    "optimizer_params = dict(l2_lambda=3e-2, l1_scope=['fc'], l1_lambda=3e-4,\n",
    "                        l2_scope=['dmx', 'tconv'], learn_rate=3e-4,\n",
    "                        task='regression') # l1_scope=['fc'], , l2_scope=['dmx', 'tconv']\n",
    "\n",
    "optimizer = mneflow.Optimizer(**optimizer_params)\n",
    "\n",
    "# specify model parameters\n",
    "lf_params = dict(n_ls=32,  # number of latent factors\n",
    "                 filter_length=64,  # convolutional filter length\n",
    "                 pooling=32,  # convlayer pooling factor\n",
    "                 stride=16,  # stride parameter for pooling layer\n",
    "                 padding='SAME',\n",
    "                 dropout=.5,\n",
    "                 nonlin=tf.nn.relu,\n",
    "                 pool_type='max',\n",
    "                 model_path = import_opt['savepath'],  # not used at the moment\n",
    "                )"
   ]
  },
  {
   "cell_type": "markdown",
   "metadata": {},
   "source": [
    "# 1. LFCNN"
   ]
  },
  {
   "cell_type": "code",
   "execution_count": null,
   "metadata": {},
   "outputs": [
    {
     "name": "stdout",
     "output_type": "stream",
     "text": [
      "X0: (?, 102, 300)\n",
      "de-mix init : OK\n",
      "dmx (?, 102, 1, 32)\n",
      "conv init : OK\n",
      "f: (64, 1, 32, 1)\n",
      "lf-out (?, 7, 1, 32)\n",
      "fc ::: 224 1\n",
      "fc init : OK\n",
      "X: (?, 102, 300, 1)\n",
      "y_pred: (?, 1)\n",
      "(1,)\n",
      "L1 penalty applied to fc\n",
      "L2 penalty applied to dmx, tconv\n",
      "Initialization complete!\n",
      "i 0, tr_loss 2.12987, tr_acc -14.7485 v_loss 2.05016, v_acc -15.3524\n",
      "i 500, tr_loss 0.804355, tr_acc -0.00663733 v_loss 0.822143, v_acc -0.205144\n",
      "i 1000, tr_loss 0.548503, tr_acc 0.107227 v_loss 0.57138, v_acc -0.0625696\n",
      "i 1500, tr_loss 0.356369, tr_acc 0.30823 v_loss 0.391204, v_acc -0.0885206\n",
      "i 2000, tr_loss 0.235809, tr_acc 0.320915 v_loss 0.263893, v_acc -0.0624317\n",
      "i 2500, tr_loss 0.157156, tr_acc 0.249068 v_loss 0.184154, v_acc -0.0654293\n",
      "i 3000, tr_loss 0.119255, tr_acc 0.324151 v_loss 0.134703, v_acc -0.0291443\n",
      "i 3500, tr_loss 0.0733857, tr_acc 0.44361 v_loss 0.110134, v_acc -0.0551417\n",
      "i 4000, tr_loss 0.0716364, tr_acc 0.393894 v_loss 0.109452, v_acc -0.256132\n",
      "i 4500, tr_loss 0.0468836, tr_acc 0.559103 v_loss 0.0918804, v_acc -0.0982468\n"
     ]
    }
   ],
   "source": [
    "model = mneflow.models.LFCNN(dataset, optimizer, lf_params)\n",
    "model.build()\n",
    "\n",
    "model.train(n_iter=30000, eval_step=500, min_delta=1e-6, early_stopping=6)"
   ]
  },
  {
   "cell_type": "code",
   "execution_count": null,
   "metadata": {},
   "outputs": [],
   "source": [
    "model.compute_patterns()\n",
    "model.plot_patterns(sensor_layout='Vectorview-mag', sorting='best', spectra=False, scale=True)"
   ]
  },
  {
   "cell_type": "code",
   "execution_count": null,
   "metadata": {},
   "outputs": [],
   "source": [
    "model.plot_waveforms(tmin= -.2)"
   ]
  },
  {
   "cell_type": "code",
   "execution_count": null,
   "metadata": {},
   "outputs": [],
   "source": [
    "model.plot_spectra(fs=500, sorting='best', norm_spectra='welch')"
   ]
  },
  {
   "cell_type": "markdown",
   "metadata": {},
   "source": [
    "# 2. VARCNN"
   ]
  },
  {
   "cell_type": "code",
   "execution_count": null,
   "metadata": {},
   "outputs": [],
   "source": [
    "model = mneflow.models.VARCNN(dataset, optimizer, lf_params)\n",
    "model.build()\n",
    "\n",
    "model.train(n_iter=30000, eval_step=500, min_delta=1e-6, early_stopping=6)\n",
    "model.plot_hist()"
   ]
  },
  {
   "cell_type": "markdown",
   "metadata": {},
   "source": [
    "# 3. LFLSTM"
   ]
  },
  {
   "cell_type": "code",
   "execution_count": null,
   "metadata": {},
   "outputs": [],
   "source": [
    "model = mneflow.models.LFLSTM(dataset, optimizer, lf_params)\n",
    "model.build()\n",
    "\n",
    "model.train(n_iter=30000, eval_step=500, min_delta=1e-6, early_stopping=6)"
   ]
  },
  {
   "cell_type": "code",
   "execution_count": null,
   "metadata": {},
   "outputs": [],
   "source": [
    "model.compute_patterns()\n",
    "model.plot_patterns(sensor_layout='Vectorview-mag', sorting='best', spectra=False, scale=True)"
   ]
  },
  {
   "cell_type": "code",
   "execution_count": null,
   "metadata": {},
   "outputs": [],
   "source": [
    "model.plot_waveforms(tmin= -.2)"
   ]
  },
  {
   "cell_type": "code",
   "execution_count": null,
   "metadata": {},
   "outputs": [],
   "source": [
    "model.plot_spectra(fs=500, sorting='best', norm_spectra='welch')"
   ]
  }
 ],
 "metadata": {
  "kernelspec": {
   "display_name": "Python 3",
   "language": "python",
   "name": "python3"
  },
  "language_info": {
   "codemirror_mode": {
    "name": "ipython",
    "version": 3
   },
   "file_extension": ".py",
   "mimetype": "text/x-python",
   "name": "python",
   "nbconvert_exporter": "python",
   "pygments_lexer": "ipython3",
   "version": "3.7.3"
  }
 },
 "nbformat": 4,
 "nbformat_minor": 2
}

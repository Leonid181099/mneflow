{
 "cells": [
  {
   "cell_type": "code",
   "execution_count": null,
   "metadata": {},
   "outputs": [],
   "source": []
  },
  {
   "cell_type": "code",
   "execution_count": 1,
   "metadata": {},
   "outputs": [
    {
     "name": "stdout",
     "output_type": "stream",
     "text": [
      "Importing from npz\n",
      "Extracting target variables from y\n",
      "input shape: (1000, 102, 300)\n",
      "target shape: (1000,)\n",
      "Prepocessed sample shape: (102, 300)\n",
      "Target shape actual/metadata:  (1,) (1,)\n",
      "Saving TFRecord# 0\n"
     ]
    }
   ],
   "source": [
    "import warnings\n",
    "warnings.filterwarnings(\"ignore\", category=DeprecationWarning)\n",
    "warnings.filterwarnings(\"ignore\", category=PendingDeprecationWarning)\n",
    "warnings.filterwarnings(\"ignore\", category=FutureWarning)\n",
    "warnings.filterwarnings(\"ignore\", category=RuntimeWarning)\n",
    "\n",
    "import numpy as np\n",
    "import tensorflow as tf\n",
    "import os\n",
    "os.chdir('/m/nbe/project/rtmeg/problearn/mneflow/')\n",
    "import mneflow\n",
    "from sklearn.preprocessing import MinMaxScaler\n",
    "\n",
    "datas = []\n",
    "path = '/l/simulated/'\n",
    "fname = 'lacc_5_rvis_12_roll_50nA.npz'\n",
    "\n",
    "\n",
    "import_opt = dict(fs=500, savepath=path+'/tfr/', out_name=fname+'0', input_type='trials',\n",
    "                      overwrite=True,\n",
    "                      val_size=0.1,\n",
    "                      array_keys={'X':'X', 'y':'y'},\n",
    "                      #picks=None, target_picks=None,\n",
    "                      target_type='float',\n",
    "                      scale=True,\n",
    "                      scale_interval = None,\n",
    "                      #crop_baseline=True,\n",
    "                      decimate=None,\n",
    "                      bp_filter = False)\n",
    "meta = mneflow.produce_tfrecords([path+fname], **import_opt)\n",
    "\n"
   ]
  },
  {
   "cell_type": "code",
   "execution_count": 2,
   "metadata": {},
   "outputs": [
    {
     "name": "stderr",
     "output_type": "stream",
     "text": [
      "WARNING: Logging before flag parsing goes to stderr.\n",
      "W0113 17:18:59.208625 139661905950464 deprecation_wrapper.py:119] From /m/nbe/project/rtmeg/problearn/mneflow/mneflow/data.py:135: The name tf.parse_single_example is deprecated. Please use tf.io.parse_single_example instead.\n",
      "\n",
      "W0113 17:18:59.223397 139661905950464 deprecation.py:323] From /m/nbe/project/rtmeg/problearn/mneflow/mneflow/data.py:114: tf_record_iterator (from tensorflow.python.lib.io.tf_record) is deprecated and will be removed in a future version.\n",
      "Instructions for updating:\n",
      "Use eager execution and: \n",
      "`tf.data.TFRecordDataset(path)`\n",
      "W0113 17:18:59.272296 139661905950464 deprecation_wrapper.py:119] From /m/nbe/project/rtmeg/problearn/mneflow/mneflow/models.py:55: The name tf.Session is deprecated. Please use tf.compat.v1.Session instead.\n",
      "\n",
      "W0113 17:18:59.277155 139661905950464 deprecation_wrapper.py:119] From /m/nbe/project/rtmeg/problearn/mneflow/mneflow/models.py:56: The name tf.placeholder is deprecated. Please use tf.compat.v1.placeholder instead.\n",
      "\n",
      "W0113 17:18:59.278249 139661905950464 deprecation.py:323] From /m/nbe/project/rtmeg/problearn/mneflow/mneflow/models.py:79: DatasetV1.make_initializable_iterator (from tensorflow.python.data.ops.dataset_ops) is deprecated and will be removed in a future version.\n",
      "Instructions for updating:\n",
      "Use `for ... in dataset:` to iterate over a dataset. If using `tf.estimator`, return the `Dataset` object directly from your input function. As a last resort, you can use `tf.compat.v1.data.make_initializable_iterator(dataset)`.\n",
      "W0113 17:18:59.333271 139661905950464 deprecation_wrapper.py:119] From /m/nbe/project/rtmeg/problearn/mneflow/mneflow/models.py:60: The name tf.data.Iterator is deprecated. Please use tf.compat.v1.data.Iterator instead.\n",
      "\n",
      "W0113 17:18:59.333781 139661905950464 deprecation.py:323] From /m/nbe/project/rtmeg/problearn/mneflow/mneflow/models.py:60: DatasetV1.output_types (from tensorflow.python.data.ops.dataset_ops) is deprecated and will be removed in a future version.\n",
      "Instructions for updating:\n",
      "Use `tf.compat.v1.data.get_output_types(dataset)`.\n",
      "W0113 17:18:59.334241 139661905950464 deprecation.py:323] From /m/nbe/project/rtmeg/problearn/mneflow/mneflow/models.py:60: DatasetV1.output_shapes (from tensorflow.python.data.ops.dataset_ops) is deprecated and will be removed in a future version.\n",
      "Instructions for updating:\n",
      "Use `tf.compat.v1.data.get_output_shapes(dataset)`.\n",
      "W0113 17:18:59.338932 139661905950464 deprecation_wrapper.py:119] From /m/nbe/project/rtmeg/problearn/mneflow/mneflow/layers.py:281: The name tf.random_uniform is deprecated. Please use tf.random.uniform instead.\n",
      "\n",
      "W0113 17:18:59.381356 139661905950464 deprecation.py:506] From /m/nbe/project/rtmeg/problearn/mneflow/mneflow/layers.py:63: calling dropout (from tensorflow.python.ops.nn_ops) with keep_prob is deprecated and will be removed in a future version.\n",
      "Instructions for updating:\n",
      "Please use `rate` instead of `keep_prob`. Rate should be set to `rate = 1 - keep_prob`.\n",
      "W0113 17:18:59.391679 139661905950464 deprecation_wrapper.py:119] From /m/nbe/project/rtmeg/problearn/mneflow/mneflow/models.py:96: The name tf.train.Saver is deprecated. Please use tf.compat.v1.train.Saver instead.\n",
      "\n",
      "W0113 17:18:59.400917 139661905950464 deprecation_wrapper.py:119] From /m/nbe/project/rtmeg/problearn/mneflow/mneflow/optimize.py:114: The name tf.losses.mean_squared_error is deprecated. Please use tf.compat.v1.losses.mean_squared_error instead.\n",
      "\n",
      "W0113 17:18:59.410799 139661905950464 deprecation.py:323] From /u/62/zubarei1/unix/.conda/envs/py3ml/lib/python3.7/site-packages/tensorflow/python/ops/losses/losses_impl.py:121: add_dispatch_support.<locals>.wrapper (from tensorflow.python.ops.array_ops) is deprecated and will be removed in a future version.\n",
      "Instructions for updating:\n",
      "Use tf.where in 2.0, which has the same broadcast rule as np.where\n",
      "W0113 17:18:59.423719 139661905950464 deprecation.py:323] From /m/nbe/project/rtmeg/problearn/mneflow/mneflow/optimize.py:119: div (from tensorflow.python.ops.math_ops) is deprecated and will be removed in a future version.\n",
      "Instructions for updating:\n",
      "Deprecated in favor of operator or tf.math.divide.\n",
      "W0113 17:18:59.426581 139661905950464 deprecation_wrapper.py:119] From /m/nbe/project/rtmeg/problearn/mneflow/mneflow/optimize.py:129: The name tf.get_collection is deprecated. Please use tf.compat.v1.get_collection instead.\n",
      "\n",
      "W0113 17:18:59.434922 139661905950464 deprecation_wrapper.py:119] From /m/nbe/project/rtmeg/problearn/mneflow/mneflow/optimize.py:140: The name tf.train.AdamOptimizer is deprecated. Please use tf.compat.v1.train.AdamOptimizer instead.\n",
      "\n"
     ]
    },
    {
     "name": "stdout",
     "output_type": "stream",
     "text": [
      "X0: (?, 102, 300)\n",
      "de-mix init : OK\n",
      "dmx (?, 300, 1, 32)\n",
      "lf-inp (?, 300, 1, 32)\n",
      "conv init : OK\n",
      "lf-inp (?, 300, 1, 32)\n",
      "f: (64, 1, 32, 1)\n",
      "lf-out (?, 19, 1, 32)\n",
      "fc ::: 608 1\n",
      "fc init : OK\n",
      "X: (?, 102, 300, 1)\n",
      "y_pred: (?, 1)\n",
      "(1,)\n",
      "L1 penalty applied to fc\n",
      "L2 penalty applied to dmx, tconv\n",
      "Initialization complete!\n"
     ]
    }
   ],
   "source": [
    "#optimizer_params = dict(l1_lambda=3e-4, learn_rate=3e-4, task='regression')\n",
    "optimizer_params = dict(l2_lambda=3e-2, l1_scope=['fc'], l1_lambda=3e-4,\n",
    "                        l2_scope=['dmx', 'tconv'], learn_rate=3e-4,\n",
    "                        task='regression') # l1_scope=['fc'], , l2_scope=['dmx', 'tconv']\n",
    "\n",
    "optimizer = mneflow.Optimizer(**optimizer_params)\n",
    "\n",
    "dataset = mneflow.Dataset(meta, train_batch = 100, class_subset=None,\n",
    "                          pick_channels=None, decim=None)\n",
    "\n",
    "lf_params = dict(n_ls=32, #number of latent factors\n",
    "                  filter_length=64, #convolutional filter length in time samples\n",
    "                  pooling = 32,#pooling factor\n",
    "                  nonlin = tf.nn.relu,\n",
    "                  stride = 16, #stride parameter for pooling layer\n",
    "                  padding = 'SAME',\n",
    "                  dropout = .5,\n",
    "                  model_path = import_opt['savepath'],\n",
    "                  pool_type='max') #path for storing the saved model\n",
    "\n",
    "model = mneflow.models.LFCNN(dataset, optimizer, lf_params)\n",
    "model.build()"
   ]
  },
  {
   "cell_type": "code",
   "execution_count": null,
   "metadata": {},
   "outputs": [
    {
     "name": "stdout",
     "output_type": "stream",
     "text": [
      "i 0, tr_loss 1.39832, tr_acc -5.5256 v_loss 1.34628, v_acc -4.30291\n",
      "i 500, tr_loss 0.59991, tr_acc 0.11082 v_loss 0.604796, v_acc -0.106986\n",
      "i 1000, tr_loss 0.293285, tr_acc -0.00624633 v_loss 0.314383, v_acc -0.167737\n",
      "i 1500, tr_loss 0.161787, tr_acc 0.042219 v_loss 0.172156, v_acc -0.0548884\n",
      "i 2000, tr_loss 0.112098, tr_acc 0.134596 v_loss 0.114377, v_acc -0.039346\n",
      "i 2500, tr_loss 0.0725523, tr_acc 0.0934976 v_loss 0.0911939, v_acc -0.0463762\n",
      "i 3000, tr_loss 0.0710074, tr_acc 0.0509361 v_loss 0.0832205, v_acc -0.0750679\n",
      "i 3500, tr_loss 0.0687811, tr_acc 0.210572 v_loss 0.0794026, v_acc -0.0793055\n"
     ]
    }
   ],
   "source": [
    "model.train(n_iter=30000,eval_step=500,min_delta=1e-6,early_stopping=6)\n",
    "model.update_log()"
   ]
  },
  {
   "cell_type": "code",
   "execution_count": null,
   "metadata": {},
   "outputs": [],
   "source": [
    "model.compute_patterns()\n",
    "model.plot_patterns(sensor_layout='Vectorview-mag', sorting='best', spectra=False, scale=True)\n"
   ]
  },
  {
   "cell_type": "code",
   "execution_count": null,
   "metadata": {},
   "outputs": [],
   "source": [
    "model.plot_waveforms(tmin= -.2)\n",
    "#%%\n"
   ]
  },
  {
   "cell_type": "code",
   "execution_count": null,
   "metadata": {},
   "outputs": [],
   "source": [
    "model.plot_spectra(fs=500, sorting='best', norm_spectra='welch')"
   ]
  }
 ],
 "metadata": {
  "kernelspec": {
   "display_name": "Python 3",
   "language": "python",
   "name": "python3"
  },
  "language_info": {
   "codemirror_mode": {
    "name": "ipython",
    "version": 3
   },
   "file_extension": ".py",
   "mimetype": "text/x-python",
   "name": "python",
   "nbconvert_exporter": "python",
   "pygments_lexer": "ipython3",
   "version": "3.7.3"
  }
 },
 "nbformat": 4,
 "nbformat_minor": 2
}

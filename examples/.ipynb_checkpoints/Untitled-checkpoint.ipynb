{
 "cells": [
  {
   "cell_type": "code",
   "execution_count": 1,
   "metadata": {},
   "outputs": [],
   "source": [
    "import mneflow\n",
    "import numpy as np\n",
    "from mneflow.utils import leave_one_subj_out\n"
   ]
  },
  {
   "cell_type": "code",
   "execution_count": 2,
   "metadata": {},
   "outputs": [],
   "source": [
    "#specify path to input files\n",
    "dpath = '/m/nbe/work/zubarei1/collabs/hse_fingers/response_locked/'\n",
    "fnames = [dpath+'block'+str(i)+'_resp.mat' for i in range(1, 13)]"
   ]
  },
  {
   "cell_type": "code",
   "execution_count": 3,
   "metadata": {},
   "outputs": [
    {
     "name": "stdout",
     "output_type": "stream",
     "text": [
      "mat\n",
      "n_classes: 4 : [0 1 2 3]\n",
      "data shape:  (114, 306, 201)\n",
      "Saving TFRecord# 0\n",
      "mat\n",
      "n_classes: 4 : [0 1 2 3]\n",
      "data shape:  (118, 306, 201)\n",
      "Saving TFRecord# 1\n",
      "mat\n",
      "n_classes: 4 : [0 1 2 3]\n",
      "data shape:  (118, 306, 201)\n",
      "Saving TFRecord# 2\n",
      "mat\n",
      "n_classes: 4 : [0 1 2 3]\n",
      "data shape:  (117, 306, 201)\n",
      "Saving TFRecord# 3\n",
      "mat\n",
      "n_classes: 4 : [0 1 2 3]\n",
      "data shape:  (116, 306, 201)\n",
      "Saving TFRecord# 4\n",
      "mat\n",
      "n_classes: 4 : [0 1 2 3]\n",
      "data shape:  (104, 306, 201)\n",
      "Saving TFRecord# 5\n",
      "mat\n",
      "n_classes: 4 : [0 1 2 3]\n",
      "data shape:  (118, 306, 201)\n",
      "Saving TFRecord# 6\n",
      "mat\n",
      "n_classes: 4 : [0 1 2 3]\n",
      "data shape:  (116, 306, 201)\n",
      "Saving TFRecord# 7\n",
      "mat\n",
      "n_classes: 4 : [0 1 2 3]\n",
      "data shape:  (117, 306, 201)\n",
      "Saving TFRecord# 8\n",
      "mat\n",
      "n_classes: 4 : [0 1 2 3]\n",
      "data shape:  (99, 306, 201)\n",
      "Saving TFRecord# 9\n",
      "mat\n",
      "n_classes: 4 : [0 1 2 3]\n",
      "data shape:  (116, 306, 201)\n",
      "Saving TFRecord# 10\n",
      "mat\n",
      "n_classes: 4 : [0 1 2 3]\n",
      "data shape:  (118, 306, 201)\n",
      "Saving TFRecord# 11\n"
     ]
    }
   ],
   "source": [
    "#import data in tfrecord format\n",
    "import_opt = dict(savepath=dpath + 'tfrexp2/',  # path to save TFR files\n",
    "                  out_name='fingers_hse',\n",
    "                  task='classification',\n",
    "                  scale=True,\n",
    "                  crop_baseline=True,\n",
    "                  array_keys={'X': 'data', 'y': 'labels'},\n",
    "                  scale_interval=(0, 150),  # baseline definition in samples\n",
    "                  decimate=2,\n",
    "                  bp_filter=(None, 80),\n",
    "                  # combine_events = {1:1,2:1,3:3,4:3},\n",
    "                  overwrite=False,\n",
    "                  picks=np.arange(306),\n",
    "                  savebatch=1,\n",
    "                  save_origs=True,\n",
    "                  val_size=0.1,\n",
    "                  fs=500.)\n",
    "\n",
    "meta = mneflow.produce_tfrecords(fnames, **import_opt)"
   ]
  },
  {
   "cell_type": "code",
   "execution_count": null,
   "metadata": {},
   "outputs": [],
   "source": [
    "optimizer_params = dict(l1_lambda=3e-3, learn_rate=3e-4)\n",
    "\n",
    "graph_specs = dict(n_ls=32,  # number of latent factors\n",
    "                   filter_length=28,  # convolutional filter length\n",
    "                   pooling=32,  # convlayer pooling factor\n",
    "                   stride=8,  # stride parameter for convolution filter\n",
    "                   padding='SAME',\n",
    "                   model_path=import_opt['savepath'],\n",
    "                   dropout=.5)\n",
    "\n",
    "model = mneflow.models.VARCNN\n",
    "\n"
   ]
  },
  {
   "cell_type": "code",
   "execution_count": null,
   "metadata": {},
   "outputs": [
    {
     "name": "stdout",
     "output_type": "stream",
     "text": [
      "holdout subj: 0\n",
      "WARNING:tensorflow:From /u/62/zubarei1/unix/.conda/envs/py3ml/lib/python3.7/site-packages/mneflow-0.1.1b0-py3.7.egg/mneflow/data.py:107: tf_record_iterator (from tensorflow.python.lib.io.tf_record) is deprecated and will be removed in a future version.\n",
      "Instructions for updating:\n",
      "Use eager execution and: \n",
      "`tf.data.TFRecordDataset(path)`\n",
      "WARNING:tensorflow:From /u/62/zubarei1/unix/.conda/envs/py3ml/lib/python3.7/site-packages/tensorflow/python/data/ops/dataset_ops.py:1419: colocate_with (from tensorflow.python.framework.ops) is deprecated and will be removed in a future version.\n",
      "Instructions for updating:\n",
      "Colocations handled automatically by placer.\n",
      "de-mix init : OK\n",
      "conv init : OK\n",
      "WARNING:tensorflow:From /u/62/zubarei1/unix/.conda/envs/py3ml/lib/python3.7/site-packages/mneflow-0.1.1b0-py3.7.egg/mneflow/layers.py:60: calling dropout (from tensorflow.python.ops.nn_ops) with keep_prob is deprecated and will be removed in a future version.\n",
      "Instructions for updating:\n",
      "Please use `rate` instead of `keep_prob`. Rate should be set to `rate = 1 - keep_prob`.\n",
      "fc init : OK\n",
      "y_pred: (?, 4)\n",
      "Initialization complete!\n",
      "i 0, tr_loss 10.9518, tr_acc 0.245 v_loss 9.08544, v_acc 0.179688\n",
      "i 250, tr_loss 6.37168, tr_acc 0.515 v_loss 6.53322, v_acc 0.414062\n"
     ]
    }
   ],
   "source": [
    "results = leave_one_subj_out(meta, optimizer_params, graph_specs, model)"
   ]
  }
 ],
 "metadata": {
  "kernelspec": {
   "display_name": "Python 3",
   "language": "python",
   "name": "python3"
  },
  "language_info": {
   "codemirror_mode": {
    "name": "ipython",
    "version": 3
   },
   "file_extension": ".py",
   "mimetype": "text/x-python",
   "name": "python",
   "nbconvert_exporter": "python",
   "pygments_lexer": "ipython3",
   "version": "3.7.3"
  }
 },
 "nbformat": 4,
 "nbformat_minor": 2
}

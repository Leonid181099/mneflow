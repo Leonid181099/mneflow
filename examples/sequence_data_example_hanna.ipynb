{
 "cells": [
  {
   "cell_type": "code",
   "execution_count": 1,
   "metadata": {},
   "outputs": [
    {
     "name": "stdout",
     "output_type": "stream",
     "text": [
      "Populating the interactive namespace from numpy and matplotlib\n",
      "Metadata file found, restoring\n"
     ]
    }
   ],
   "source": [
    "%pylab inline\n",
    "import tensorflow as tf\n",
    "tf.compat.v1.logging.set_verbosity(tf.compat.v1.logging.ERROR)\n",
    "\n",
    "import os\n",
    "import sys\n",
    "import numpy as np\n",
    "os.chdir('/u/20/vranoug1/unix/OPM-BCI/mneflow-dev/mneflow/')\n",
    "\n",
    "import mneflow\n",
    "\n",
    "# Dataset parameters\n",
    "dpath = '/m/nbe/scratch/strokemotor/healthysubjects/'\n",
    "# fname = 'sub1/short_epochs.fif'\n",
    "fnames = [''.join([dpath, 'sub', str(ii), '/long_epochs.fif']) for ii in range(2, 3)]\n",
    "\n",
    "import_opt = dict(fs=1000,\n",
    "                  savepath='../tfr/',\n",
    "                  out_name='stm_seq',\n",
    "                  input_type='seq',\n",
    "                  overwrite=False,\n",
    "                  val_size=0.2,\n",
    "                  # array_keys={'X': 'train_data', 'y': 'train_dg'},\n",
    "                  # picks=np.arange(0,306,3),\n",
    "                  bp_filter=(.1, 125),\n",
    "                  # target_picks=None,\n",
    "                  target_type='int',\n",
    "                  segment=250,\n",
    "                  augment=True,\n",
    "                  aug_stride=100,\n",
    "                  # transpose=('X', 'y'),\n",
    "                  combine_events={3: 0, 4: 1, 5: 1, 6: 0, 2: 2},\n",
    "                  scale=True,\n",
    "                  scale_interval=(0, 1000),\n",
    "                  decimate=None,\n",
    "                  # transform_targets=False,\n",
    "                  seq_length=None,\n",
    "                  test_set='holdout'\n",
    "                  )\n",
    "\n",
    "meta = mneflow.produce_tfrecords(fnames, **import_opt)\n",
    "\n",
    "nbatch = 12\n",
    "steps = int(144/nbatch)\n",
    "\n",
    "# batch the dataset according to that value\n",
    "dataset = mneflow.Dataset(meta, train_batch=nbatch, class_subset=None,\n",
    "                          pick_channels=None, decim=None)\n"
   ]
  },
  {
   "cell_type": "code",
   "execution_count": 2,
   "metadata": {},
   "outputs": [
    {
     "name": "stdout",
     "output_type": "stream",
     "text": [
      "---------\n",
      "/u/20/vranoug1/unix/.conda/envs/py3ml/lib/python3.7/site-packages/mneflow/__init__.py\n",
      "tf version: 1.14.0\n",
      "executing eagerly: False\n",
      "---------\n"
     ]
    }
   ],
   "source": [
    "import sys\n",
    "sys.path\n",
    "print('---------\\n'+mneflow.__file__)\n",
    "print('tf version: '+tf.__version__)\n",
    "print('executing eagerly: '+str(tf.executing_eagerly())+'\\n---------')"
   ]
  },
  {
   "cell_type": "code",
   "execution_count": 3,
   "metadata": {
    "scrolled": false
   },
   "outputs": [
    {
     "name": "stdout",
     "output_type": "stream",
     "text": [
      "X0: (?, 98, 204, 250)\n",
      "de-mix init : OK\n",
      "dmx (?, 98, 250, 32)\n",
      "dmx-sqout: (?, 250, 32, 1)\n",
      "conv init : OK\n",
      "f: (32, 1, 1, 1)\n",
      "lf-out (?, 50, 32, 1)\n",
      "features: (?, 50, 32, 1)\n",
      "flat features: (?, 98, 1600)\n",
      "lstm init : OK\n",
      "lstm_out: (?, 32)\n",
      "fc ::: 32 3\n",
      "fc init : OK\n",
      "matmul shape: (?, 3)\n",
      "added bias shape: (?, 3)\n",
      "after nonlin: (?, 3)\n",
      "X: (?, 98, 204, 250)\n",
      "y_pred: (?, 3)\n",
      "L1 penalty applied to fc\n",
      "L2 penalty applied to dmx, tconv\n",
      "Initialization complete!\n"
     ]
    }
   ],
   "source": [
    "# training parameters\n",
    "#optimizer_params = dict(l1_lambda=3e-4,learn_rate=3e-4, task='classification')\n",
    "optimizer_params = dict(l2_lambda=3e-3, l1_scope=['fc'], l1_lambda=3e-4,\n",
    "                        l2_scope=['dmx', 'tconv'], learn_rate=3e-4,\n",
    "                        task='classification') # l1_scope=['fc'], , l2_scope=['dmx', 'tconv']\n",
    "\n",
    "optimizer = mneflow.Optimizer(**optimizer_params)\n",
    "# model parameters\n",
    "graph_specs = dict(n_ls=32,  # number of latent factors\n",
    "                   filter_length=32,  # convolutional filter length\n",
    "                   pooling=5,  # convlayer pooling factor\n",
    "                   stride=5,  # stride parameter for pooling layer\n",
    "                   padding='SAME',\n",
    "                   nonlin=tf.nn.relu,\n",
    "                   pool_type='max',\n",
    "                   model_path=meta['savepath'],\n",
    "                   dropout=.5,)\n",
    "\n",
    "model = mneflow.models.LFLSTM(dataset,optimizer,graph_specs)\n",
    "#model = mneflow.models.VARCNN(dataset,optimizer,graph_specs)\n",
    "\n",
    "model.build()"
   ]
  },
  {
   "cell_type": "code",
   "execution_count": 4,
   "metadata": {},
   "outputs": [
    {
     "name": "stdout",
     "output_type": "stream",
     "text": [
      "i 0, tr_loss 1.38808, tr_acc 0.5 v_loss 1.3824, v_acc 0.333333\n",
      "i 12, tr_loss 0.818317, tr_acc 0.666667 v_loss 1.32186, v_acc 0.277778\n",
      "* Patience count 1\n",
      "i 24, tr_loss 0.72374, tr_acc 0.833333 v_loss 1.42055, v_acc 0.222222\n",
      "* Patience count 2\n",
      "i 36, tr_loss 0.49577, tr_acc 1 v_loss 1.4444, v_acc 0.277778\n",
      "* Patience count 3\n",
      "i 48, tr_loss 0.367718, tr_acc 1 v_loss 1.49563, v_acc 0.333333\n",
      "* Patience count 4\n",
      "i 60, tr_loss 0.254114, tr_acc 1 v_loss 1.62858, v_acc 0.222222\n",
      "* Patience count 5\n",
      "i 72, tr_loss 0.215893, tr_acc 1 v_loss 1.5687, v_acc 0.222222\n",
      "* Patience count 6\n",
      "i 84, tr_loss 0.199479, tr_acc 1 v_loss 1.5031, v_acc 0.277778\n",
      "* Patience count 7\n",
      "i 96, tr_loss 0.167733, tr_acc 1 v_loss 1.55061, v_acc 0.277778\n",
      "* Patience count 8\n",
      "i 108, tr_loss 0.177911, tr_acc 1 v_loss 1.59259, v_acc 0.277778\n",
      "* Patience count 9\n",
      "i 120, tr_loss 0.162032, tr_acc 1 v_loss 1.53567, v_acc 0.277778\n",
      "* Patience count 10\n",
      "early stopping...\n",
      "stopped at: epoch 132, val loss 1.32186, val acc 0.277778\n"
     ]
    }
   ],
   "source": [
    "results = model.train(early_stopping=10, min_delta=5e-6, n_iter=50000, eval_step=12)"
   ]
  },
  {
   "cell_type": "code",
   "execution_count": 5,
   "metadata": {},
   "outputs": [
    {
     "data": {
      "image/png": "[encoded data removed]",
      "text/plain": [
       "<Figure size 432x288 with 2 Axes>"
      ]
     },
     "metadata": {
      "needs_background": "light"
     },
     "output_type": "display_data"
    }
   ],
   "source": [
    "_ = model.plot_cm(dataset='training')"
   ]
  },
  {
   "cell_type": "code",
   "execution_count": 6,
   "metadata": {},
   "outputs": [
    {
     "data": {
      "image/png": "[encoded data removed]",
      "text/plain": [
       "<Figure size 432x288 with 2 Axes>"
      ]
     },
     "metadata": {
      "needs_background": "light"
     },
     "output_type": "display_data"
    }
   ],
   "source": [
    "_ = model.plot_cm(dataset='validation')"
   ]
  },
  {
   "cell_type": "code",
   "execution_count": 7,
   "metadata": {},
   "outputs": [
    {
     "data": {
      "image/png": "[encoded data removed]",
      "text/plain": [
       "<Figure size 432x288 with 2 Axes>"
      ]
     },
     "metadata": {
      "needs_background": "light"
     },
     "output_type": "display_data"
    }
   ],
   "source": [
    "_ = model.plot_cm(dataset='test')"
   ]
  }
 ],
 "metadata": {
  "kernelspec": {
   "display_name": "Python 3",
   "language": "python",
   "name": "python3"
  },
  "language_info": {
   "codemirror_mode": {
    "name": "ipython",
    "version": 3
   },
   "file_extension": ".py",
   "mimetype": "text/x-python",
   "name": "python",
   "nbconvert_exporter": "python",
   "pygments_lexer": "ipython3",
   "version": "3.7.3"
  }
 },
 "nbformat": 4,
 "nbformat_minor": 2
}

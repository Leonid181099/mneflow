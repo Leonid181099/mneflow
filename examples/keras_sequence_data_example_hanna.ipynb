{
 "cells": [
  {
   "cell_type": "code",
   "execution_count": 1,
   "metadata": {},
   "outputs": [
    {
     "name": "stdout",
     "output_type": "stream",
     "text": [
      "Populating the interactive namespace from numpy and matplotlib\n",
      "Metadata file found, restoring\n"
     ]
    }
   ],
   "source": [
    "%pylab inline\n",
    "import tensorflow as tf\n",
    "tf.compat.v1.logging.set_verbosity(tf.compat.v1.logging.ERROR)\n",
    "\n",
    "import os\n",
    "import sys\n",
    "import numpy as np\n",
    "os.chdir('/u/20/vranoug1/unix/OPM-BCI/mneflow-dev/mneflow/')\n",
    "\n",
    "import mneflow\n",
    "from mneflow import keras_models\n",
    "\n",
    "from mneflow.keras_utils import plot_metrics, plot_output, plot_history_v2\n",
    "from mneflow.keras_utils import mse_weighted, mae_weighted\n",
    "from mneflow.keras_utils import r_square, soft_acc, rmse\n",
    "\n",
    "# Force enable eager execution after importing mneflow\n",
    "tf.compat.v1.enable_eager_execution()\n",
    "\n",
    "# Dataset parameters\n",
    "dpath = '/m/nbe/scratch/strokemotor/healthysubjects/'\n",
    "# fname = 'sub1/short_epochs.fif'\n",
    "fnames = [''.join([dpath, 'sub', str(ii), '/long_epochs.fif']) for ii in range(2, 3)]\n",
    "\n",
    "import_opt = dict(fs=1000,\n",
    "                  savepath='../tfr/',\n",
    "                  out_name='stm_seq',\n",
    "                  input_type='seq',\n",
    "                  overwrite=False,\n",
    "                  val_size=0.2,\n",
    "                  # array_keys={'X': 'train_data', 'y': 'train_dg'},\n",
    "                  # picks=np.arange(0,306,3),\n",
    "                  bp_filter=(.1, 125),\n",
    "                  # target_picks=None,\n",
    "                  target_type='int',\n",
    "                  segment=250,\n",
    "                  augment=True,\n",
    "                  aug_stride=100,\n",
    "                  # transpose=('X', 'y'),\n",
    "                  combine_events={3: 0, 4: 1, 5: 1, 6: 0, 2: 2},\n",
    "                  scale=True,\n",
    "                  scale_interval=(0, 1000),\n",
    "                  decimate=None,\n",
    "                  # transform_targets=False,\n",
    "                  seq_length=None,\n",
    "                  test_set='holdout'\n",
    "                  )\n",
    "\n",
    "meta = mneflow.produce_tfrecords(fnames, **import_opt)\n",
    "\n",
    "nbatch = 12\n",
    "steps = int(144/nbatch)\n",
    "\n",
    "# batch the dataset according to that value\n",
    "dataset = mneflow.Dataset(meta, train_batch=nbatch, class_subset=None,\n",
    "                          pick_channels=None, decim=None)\n"
   ]
  },
  {
   "cell_type": "code",
   "execution_count": 2,
   "metadata": {},
   "outputs": [
    {
     "name": "stdout",
     "output_type": "stream",
     "text": [
      "---------\n",
      "/u/20/vranoug1/unix/.conda/envs/py3ml/lib/python3.7/site-packages/mneflow/__init__.py\n",
      "tf version: 1.14.0\n",
      "executing eagerly: True\n",
      "---------\n"
     ]
    }
   ],
   "source": [
    "import sys\n",
    "sys.path\n",
    "print('---------\\n'+mneflow.__file__)\n",
    "print('tf version: '+tf.__version__)\n",
    "print('executing eagerly: '+str(tf.executing_eagerly())+'\\n---------')"
   ]
  },
  {
   "cell_type": "code",
   "execution_count": 3,
   "metadata": {
    "scrolled": true
   },
   "outputs": [
    {
     "name": "stdout",
     "output_type": "stream",
     "text": [
      "de-mix init : OK\n",
      "lstm init : OK\n",
      "fc init : OK\n"
     ]
    }
   ],
   "source": [
    "# specify optimizer parmeters\n",
    "optim = tf.keras.optimizers.Adam(learning_rate=3e-4)\n",
    "\n",
    "# specify model parameters\n",
    "graph_specs = dict(n_ls=32,  # number of latent factors\n",
    "                   filter_length=32,  # convolutional filter length\n",
    "                   pooling=5,  # convlayer pooling factor\n",
    "                   stride=5,  # stride parameter for pooling layer\n",
    "                   padding='SAME',\n",
    "                   dropout=.5,\n",
    "                   nonlin=tf.nn.relu,\n",
    "                   pool_type='max',\n",
    "                   out_dim=np.prod(meta['y_shape']),\n",
    "                   axis=2,\n",
    "                   y_shape=meta['y_shape'],\n",
    "                   model_path=import_opt['savepath'],  # not used at the moment\n",
    "                   # regularization parameters\n",
    "                   l1=3e-4,\n",
    "                   l2=3e-3,\n",
    "                   # LSTM parameters\n",
    "                   rnn_units=np.prod(meta['y_shape']),\n",
    "                   rnn_dropout=0.0,\n",
    "                   rnn_nonlin='tanh',\n",
    "                   rnn_rec_nonlin='hard_sigmoid',\n",
    "                   rnn_forget_bias=True,\n",
    "                   rnn_seq=True,\n",
    "                   unroll=False)\n",
    "\n",
    "model = keras_models.LFLSTM(graph_specs)\n",
    "loss_f = tf.compat.v1.losses.softmax_cross_entropy  # one-hot labels for classification\n",
    "\n",
    "# % builtin\n",
    "model.compile(loss=loss_f, optimizer=optim, metrics=['accuracy'])"
   ]
  },
  {
   "cell_type": "code",
   "execution_count": 4,
   "metadata": {},
   "outputs": [
    {
     "name": "stdout",
     "output_type": "stream",
     "text": [
      "Epoch 1/50000\n",
      "[None, 98, 204, 250]\n",
      "input x0 (?, 98, 204, 250)\n",
      "input x0 (?, 1, 204, 250)\n",
      "de-mix built : OK\n",
      "dmx (?, 1, 250, 32)\n",
      "demix dmx (?, 1, 250, 32)\n",
      "reshaped dmx (?, 250, 32, 1)\n",
      "conv build : OK\n",
      "varconv (?, 50, 32, 1)\n",
      "reshaped varconv (?, 98, 1600)\n",
      "lstm (?, 98, 32)\n",
      "(?, 98, 32)\n",
      "fc ::: 3136 3\n",
      "fc build : OK\n",
      "fc y_ (?, 3)\n",
      "12/12 [==============================] - 93s 8s/step - loss: 4.7336 - acc: 0.2972 - val_loss: 4.0857 - val_acc: 0.5000\n",
      "Epoch 2/50000\n",
      "12/12 [==============================] - 113s 9s/step - loss: 4.3091 - acc: 0.4170 - val_loss: 4.0905 - val_acc: 0.3889\n",
      "Epoch 3/50000\n",
      "12/12 [==============================] - 113s 9s/step - loss: 4.1863 - acc: 0.4435 - val_loss: 4.4366 - val_acc: 0.2778\n",
      "Epoch 4/50000\n",
      "12/12 [==============================] - 115s 10s/step - loss: 4.0755 - acc: 0.5324 - val_loss: 4.4395 - val_acc: 0.1111\n",
      "Epoch 5/50000\n",
      "12/12 [==============================] - 114s 9s/step - loss: 4.0915 - acc: 0.4550 - val_loss: 4.6628 - val_acc: 0.2222\n",
      "Epoch 6/50000\n",
      "12/12 [==============================] - 114s 9s/step - loss: 3.8245 - acc: 0.6244 - val_loss: 4.6117 - val_acc: 0.2222\n",
      "Epoch 7/50000\n",
      "12/12 [==============================] - 112s 9s/step - loss: 3.7436 - acc: 0.6987 - val_loss: 4.5465 - val_acc: 0.3333\n",
      "Epoch 8/50000\n",
      "12/12 [==============================] - 113s 9s/step - loss: 3.6768 - acc: 0.6917 - val_loss: 4.3777 - val_acc: 0.4444\n",
      "Epoch 9/50000\n",
      "12/12 [==============================] - 113s 9s/step - loss: 3.5772 - acc: 0.6791 - val_loss: 4.4765 - val_acc: 0.2778\n",
      "Epoch 10/50000\n",
      "12/12 [==============================] - 108s 9s/step - loss: 3.4353 - acc: 0.7870 - val_loss: 4.3933 - val_acc: 0.2778\n",
      "Epoch 11/50000\n",
      "12/12 [==============================] - 85s 7s/step - loss: 3.3508 - acc: 0.8576 - val_loss: 4.5515 - val_acc: 0.2222\n"
     ]
    }
   ],
   "source": [
    "stop_early = tf.keras.callbacks.EarlyStopping(monitor='val_loss', min_delta=5e-6, patience=10)\n",
    "\n",
    "# %% train the model\n",
    "history = model.fit(dataset.train, validation_data=dataset.val, epochs=50000,\n",
    "                    steps_per_epoch=steps, validation_steps=1,\n",
    "                    callbacks=[stop_early], verbose=1)"
   ]
  },
  {
   "cell_type": "code",
   "execution_count": 5,
   "metadata": {},
   "outputs": [
    {
     "name": "stdout",
     "output_type": "stream",
     "text": [
      "Model: \"lfcnn-lstm\"\n",
      "_________________________________________________________________\n",
      "Layer (type)                 Output Shape              Param #   \n",
      "=================================================================\n",
      "de-mix (DeMixing)            multiple                  6560      \n",
      "_________________________________________________________________\n",
      "conv (LFTConv)               multiple                  33        \n",
      "_________________________________________________________________\n",
      "lstm (LSTMv1)                multiple                  209024    \n",
      "_________________________________________________________________\n",
      "fc (Dense)                   multiple                  9411      \n",
      "=================================================================\n",
      "Total params: 225,028\n",
      "Trainable params: 225,028\n",
      "Non-trainable params: 0\n",
      "_________________________________________________________________\n"
     ]
    }
   ],
   "source": [
    "model.summary()"
   ]
  },
  {
   "cell_type": "code",
   "execution_count": 6,
   "metadata": {},
   "outputs": [
    {
     "data": {
      "image/png": "[encoded data removed]",
      "text/plain": [
       "<Figure size 432x288 with 2 Axes>"
      ]
     },
     "metadata": {
      "needs_background": "light"
     },
     "output_type": "display_data"
    }
   ],
   "source": [
    "_ = keras_models.plot_cm(model, dataset, 'train', steps=steps)"
   ]
  },
  {
   "cell_type": "code",
   "execution_count": 7,
   "metadata": {},
   "outputs": [
    {
     "data": {
      "image/png": "[encoded data removed]",
      "text/plain": [
       "<Figure size 432x288 with 2 Axes>"
      ]
     },
     "metadata": {
      "needs_background": "light"
     },
     "output_type": "display_data"
    }
   ],
   "source": [
    "_ = keras_models.plot_cm(model, dataset, 'val', steps=1)"
   ]
  },
  {
   "cell_type": "code",
   "execution_count": 8,
   "metadata": {},
   "outputs": [
    {
     "data": {
      "image/png": "[encoded data removed]",
      "text/plain": [
       "<Figure size 432x288 with 2 Axes>"
      ]
     },
     "metadata": {
      "needs_background": "light"
     },
     "output_type": "display_data"
    }
   ],
   "source": [
    "_ = keras_models.plot_cm(model, dataset, 'test', steps=1)"
   ]
  },
  {
   "cell_type": "code",
   "execution_count": null,
   "metadata": {},
   "outputs": [],
   "source": []
  }
 ],
 "metadata": {
  "kernelspec": {
   "display_name": "Python 3",
   "language": "python",
   "name": "python3"
  },
  "language_info": {
   "codemirror_mode": {
    "name": "ipython",
    "version": 3
   },
   "file_extension": ".py",
   "mimetype": "text/x-python",
   "name": "python",
   "nbconvert_exporter": "python",
   "pygments_lexer": "ipython3",
   "version": "3.7.3"
  }
 },
 "nbformat": 4,
 "nbformat_minor": 2
}

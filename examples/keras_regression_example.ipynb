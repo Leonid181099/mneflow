{
 "cells": [
  {
   "cell_type": "code",
   "execution_count": 1,
   "metadata": {},
   "outputs": [
    {
     "name": "stdout",
     "output_type": "stream",
     "text": [
      "Metadata file found, restoring\n"
     ]
    }
   ],
   "source": [
    "#%pylab inline\n",
    "#get epochs using your mne-python pipeline\n",
    "import warnings\n",
    "warnings.filterwarnings(\"ignore\", category=DeprecationWarning)\n",
    "warnings.filterwarnings(\"ignore\", category=PendingDeprecationWarning)\n",
    "warnings.filterwarnings(\"ignore\", category=FutureWarning)\n",
    "warnings.filterwarnings(\"ignore\", category=RuntimeWarning)\n",
    "\n",
    "import tensorflow as tf\n",
    "tf.compat.v1.logging.set_verbosity(tf.compat.v1.logging.ERROR)\n",
    "\n",
    "import sys\n",
    "import os\n",
    "\n",
    "import numpy as np\n",
    "from sklearn.preprocessing import MinMaxScaler\n",
    "import mne\n",
    "\n",
    "#os.chdir('/m/nbe/project/rtmeg/problearn/mneflow/')\n",
    "os.chdir('/u/20/vranoug1/unix/OPM-BCI/mneflow-dev/mneflow/')\n",
    "import mneflow\n",
    "from mneflow import keras_models\n",
    "\n",
    "from mneflow.keras_utils import plot_output, plot_history\n",
    "from mneflow.keras_utils import r_square, soft_acc, rmse\n",
    "\n",
    "# Force enable eager execution after importing mneflow\n",
    "tf.compat.v1.enable_eager_execution()\n",
    "mne.set_log_level(verbose='CRITICAL')\n",
    "\n",
    "\n",
    "path = '/m/nbe/work/vranoug1/OPM-BCI/datasets/'\n",
    "fname = 'sim_2_erps_50nA.npz'\n",
    "\n",
    "\n",
    "import_opt = dict(fs=500,\n",
    "                  savepath='../tfr/',\n",
    "                  out_name=fname,\n",
    "                  input_type='trials',\n",
    "                  target_type='float',\n",
    "                  val_size=0.2,\n",
    "                  array_keys={'X': 'X', 'y': 'y'},\n",
    "                  # picks=None, target_picks=None,\n",
    "                  scale=True,\n",
    "                  scale_interval=None,\n",
    "                  # crop_baseline=True,\n",
    "                  decimate=None,\n",
    "                  bp_filter=False,\n",
    "                  overwrite=False,\n",
    "                  test_set='holdout')\n",
    "\n",
    "meta = mneflow.produce_tfrecords([path+fname], **import_opt)\n",
    "dataset = mneflow.Dataset(meta, train_batch=100, class_subset=None, pick_channels=None, decim=None)"
   ]
  },
  {
   "cell_type": "code",
   "execution_count": 2,
   "metadata": {},
   "outputs": [
    {
     "name": "stdout",
     "output_type": "stream",
     "text": [
      "---------\n",
      "/u/20/vranoug1/unix/.conda/envs/py3ml/lib/python3.7/site-packages/mneflow/__init__.py\n",
      "tf version: 1.14.0\n",
      "executing eagerly: True\n",
      "---------\n"
     ]
    }
   ],
   "source": [
    "sys.path\n",
    "print('---------\\n'+mneflow.__file__)\n",
    "print('tf version: '+tf.__version__)\n",
    "print('executing eagerly: '+str(tf.executing_eagerly())+'\\n---------')"
   ]
  },
  {
   "cell_type": "code",
   "execution_count": 3,
   "metadata": {},
   "outputs": [],
   "source": [
    "# specify model parameters\n",
    "graph_specs = dict(n_ls=32,  # number of latent factors\n",
    "                   filter_length=64,  # convolutional filter length\n",
    "                   pooling=32,  # convlayer pooling factor\n",
    "                   stride=16,  # stride parameter for pooling layer\n",
    "                   padding='SAME',\n",
    "                   dropout=.5,\n",
    "                   nonlin=tf.nn.relu,\n",
    "                   pool_type='max',\n",
    "                   out_dim=np.prod(meta['y_shape']),\n",
    "                   axis=1,\n",
    "                   y_shape=meta['y_shape'],\n",
    "                   model_path = import_opt['savepath'],  # not used at the moment\n",
    "                   # regularization parameters\n",
    "                   l1=3e-4,\n",
    "                   l2=0,\n",
    "                   # LSTM parameters\n",
    "                   rnn_units=np.prod(meta['y_shape']),\n",
    "                   rnn_dropout=0.0,\n",
    "                   rnn_nonlin='tanh',\n",
    "                   rnn_rec_nonlin='tanh',\n",
    "                   rnn_forget_bias=True,\n",
    "                   rnn_seq=True,\n",
    "                   unroll=False)"
   ]
  },
  {
   "cell_type": "markdown",
   "metadata": {},
   "source": [
    "# 1. LFLSTM"
   ]
  },
  {
   "cell_type": "code",
   "execution_count": 4,
   "metadata": {},
   "outputs": [
    {
     "name": "stdout",
     "output_type": "stream",
     "text": [
      "de-mix init : OK\n",
      "fc init : OK\n",
      "de-mix init : OK\n",
      "lstm init : OK\n",
      "fc init : OK\n"
     ]
    }
   ],
   "source": [
    "model = keras_models.LFLSTM(graph_specs, dataset)\n",
    "\n",
    "#specify optimizer parmeters\n",
    "optim = tf.keras.optimizers.Adam(learning_rate=3e-4)\n",
    "loss_f = tf.compat.v1.losses.mean_squared_error\n",
    "\n",
    "# % builtin\n",
    "model.compile(loss=loss_f, optimizer=optim, metrics=[r_square, soft_acc, rmse])"
   ]
  },
  {
   "cell_type": "code",
   "execution_count": 6,
   "metadata": {
    "scrolled": true
   },
   "outputs": [
    {
     "name": "stdout",
     "output_type": "stream",
     "text": [
      "Epoch 1/3\n",
      "100/100 [==============================] - 88s 884ms/step - loss: 0.8215 - r_square: -0.6350 - soft_acc: 0.0097 - rmse: 0.3162 - val_loss: 0.7667 - val_r_square: -0.3991 - val_soft_acc: 0.0200 - val_rmse: 0.2436\n",
      "Epoch 2/3\n",
      "100/100 [==============================] - 89s 888ms/step - loss: 0.8073 - r_square: -0.6739 - soft_acc: 0.0120 - rmse: 0.3174 - val_loss: 0.7571 - val_r_square: -0.5725 - val_soft_acc: 0.0100 - val_rmse: 0.2583\n",
      "Epoch 3/3\n",
      "100/100 [==============================] - 86s 864ms/step - loss: 0.7820 - r_square: -0.5625 - soft_acc: 0.0133 - rmse: 0.3071 - val_loss: 0.7847 - val_r_square: -1.6638 - val_soft_acc: 0.0000e+00 - val_rmse: 0.3361\n"
     ]
    }
   ],
   "source": [
    "stop_early = tf.keras.callbacks.EarlyStopping(monitor='val_loss', min_delta=1e-6, patience=6)\n",
    "\n",
    "#train the model\n",
    "history = model.fit(dataset.train, validation_data=dataset.val, epochs=3, steps_per_epoch=100,\n",
    "                    validation_steps=1, callbacks=[stop_early], verbose=1)"
   ]
  },
  {
   "cell_type": "code",
   "execution_count": 7,
   "metadata": {},
   "outputs": [
    {
     "name": "stdout",
     "output_type": "stream",
     "text": [
      "Model: \"lfcnn-lstm\"\n",
      "_________________________________________________________________\n",
      "Layer (type)                 Output Shape              Param #   \n",
      "=================================================================\n",
      "de-mix (DeMixing)            multiple                  3296      \n",
      "_________________________________________________________________\n",
      "conv (LFTConv)               multiple                  65        \n",
      "_________________________________________________________________\n",
      "lstm (LSTMv1)                multiple                  82048     \n",
      "_________________________________________________________________\n",
      "fc (Dense)                   multiple                  33        \n",
      "=================================================================\n",
      "Total params: 85,442\n",
      "Trainable params: 85,442\n",
      "Non-trainable params: 0\n",
      "_________________________________________________________________\n",
      "1/1 [==============================] - 0s 328ms/step - loss: 0.8057 - r_square: -0.9668 - soft_acc: 0.0100 - rmse: 0.3659\n"
     ]
    }
   ],
   "source": [
    "model.summary()\n",
    "results = model.evaluate(dataset.test, steps=1, verbose=1)"
   ]
  },
  {
   "cell_type": "code",
   "execution_count": 8,
   "metadata": {},
   "outputs": [
    {
     "data": {
      "image/png": "[encoded data removed]",
      "text/plain": [
       "<Figure size 432x288 with 4 Axes>"
      ]
     },
     "metadata": {
      "needs_background": "light"
     },
     "output_type": "display_data"
    }
   ],
   "source": [
    "model.plot_history()"
   ]
  },
  {
   "cell_type": "code",
   "execution_count": null,
   "metadata": {},
   "outputs": [],
   "source": [
    "model.compute_patterns(data_path=meta['train_paths'], output='patterns')\n",
    "f = model.plot_patterns(sensor_layout='Vectorview-grad', sorting='best', scale=False)"
   ]
  },
  {
   "cell_type": "code",
   "execution_count": null,
   "metadata": {},
   "outputs": [],
   "source": [
    "f3 = model.plot_spectra(sorting='best')"
   ]
  },
  {
   "cell_type": "markdown",
   "metadata": {},
   "source": [
    "# 2. LFCNN"
   ]
  },
  {
   "cell_type": "code",
   "execution_count": 9,
   "metadata": {
    "scrolled": true
   },
   "outputs": [
    {
     "name": "stdout",
     "output_type": "stream",
     "text": [
      "de-mix init : OK\n",
      "fc init : OK\n",
      "Epoch 1/3\n",
      "[None, 102, 300]\n",
      "input x0 (?, 102, 300, 1)\n",
      "de-mix built : OK\n",
      "dmx (?, 300, 1, 32)\n",
      "conv build : OK\n",
      "fc ::: 608 1\n",
      "fc build : OK\n",
      "100/100 [==============================] - 12s 116ms/step - loss: 0.5180 - r_square: -8.4608 - soft_acc: 0.0074 - rmse: 0.7043 - val_loss: 0.2148 - val_r_square: -0.7224 - val_soft_acc: 0.0200 - val_rmse: 0.2703\n",
      "Epoch 2/3\n",
      "100/100 [==============================] - 11s 106ms/step - loss: 0.3033 - r_square: -1.7925 - soft_acc: 0.0074 - rmse: 0.4003 - val_loss: 0.1924 - val_r_square: -0.2834 - val_soft_acc: 0.0000e+00 - val_rmse: 0.2333\n",
      "Epoch 3/3\n",
      "100/100 [==============================] - 10s 104ms/step - loss: 0.2468 - r_square: -0.7705 - soft_acc: 0.0154 - rmse: 0.3254 - val_loss: 0.1881 - val_r_square: -0.2455 - val_soft_acc: 0.0300 - val_rmse: 0.2298\n"
     ]
    }
   ],
   "source": [
    "# refreshing the dataset model\n",
    "dataset = mneflow.Dataset(meta, train_batch=100, class_subset=None, pick_channels=None, decim=None)\n",
    "\n",
    "model = keras_models.LFCNN(graph_specs, dataset)\n",
    "loss_f = tf.compat.v1.losses.mean_squared_error\n",
    "\n",
    "# % builtin\n",
    "model.compile(loss=loss_f, optimizer=optim, metrics=[r_square, soft_acc, rmse])\n",
    "\n",
    "stop_early = tf.keras.callbacks.EarlyStopping(monitor='val_loss', min_delta=1e-6, patience=6)\n",
    "\n",
    "#train the model\n",
    "history = model.fit(dataset.train, validation_data=dataset.val, epochs=3, steps_per_epoch=100,\n",
    "                    validation_steps=1, callbacks=[stop_early], verbose=1)"
   ]
  },
  {
   "cell_type": "code",
   "execution_count": 10,
   "metadata": {},
   "outputs": [
    {
     "name": "stdout",
     "output_type": "stream",
     "text": [
      "Model: \"lf-cnn\"\n",
      "_________________________________________________________________\n",
      "Layer (type)                 Output Shape              Param #   \n",
      "=================================================================\n",
      "de-mix (DeMixing)            multiple                  3296      \n",
      "_________________________________________________________________\n",
      "conv (LFTConv)               multiple                  2080      \n",
      "_________________________________________________________________\n",
      "fc (Dense)                   multiple                  609       \n",
      "=================================================================\n",
      "Total params: 5,985\n",
      "Trainable params: 5,985\n",
      "Non-trainable params: 0\n",
      "_________________________________________________________________\n",
      "1/1 [==============================] - 0s 184ms/step - loss: 0.2155 - r_square: -0.1774 - soft_acc: 0.0100 - rmse: 0.2831\n"
     ]
    }
   ],
   "source": [
    "model.summary()\n",
    "results = model.evaluate(dataset.test, steps=1, verbose=1)"
   ]
  },
  {
   "cell_type": "code",
   "execution_count": 11,
   "metadata": {},
   "outputs": [
    {
     "data": {
      "image/png": "[encoded data removed]",
      "text/plain": [
       "<Figure size 432x288 with 4 Axes>"
      ]
     },
     "metadata": {
      "needs_background": "light"
     },
     "output_type": "display_data"
    }
   ],
   "source": [
    "model.plot_history()"
   ]
  },
  {
   "cell_type": "code",
   "execution_count": null,
   "metadata": {},
   "outputs": [],
   "source": [
    "model.compute_patterns(data_path=meta['train_paths'], output='patterns')\n",
    "f = model.plot_patterns(sensor_layout='Vectorview-grad', sorting='best', scale=False)"
   ]
  },
  {
   "cell_type": "code",
   "execution_count": null,
   "metadata": {},
   "outputs": [],
   "source": [
    "f3 = model.plot_spectra(sorting='best')"
   ]
  },
  {
   "cell_type": "markdown",
   "metadata": {},
   "source": [
    "# 3. VARCNN"
   ]
  },
  {
   "cell_type": "code",
   "execution_count": 12,
   "metadata": {
    "scrolled": true
   },
   "outputs": [
    {
     "name": "stdout",
     "output_type": "stream",
     "text": [
      "de-mix init : OK\n",
      "conv init : OK\n",
      "fc init : OK\n",
      "Epoch 1/3\n",
      "[None, 102, 300]\n",
      "input x0 (?, 102, 300, 1)\n",
      "de-mix built : OK\n",
      "dmx (?, 300, 1, 32)\n",
      "conv build : OK\n",
      "conv call: ok shape (?, 19, 1, 32)\n",
      "fc ::: 608 1\n",
      "fc build : OK\n",
      "100/100 [==============================] - 32s 317ms/step - loss: 6.5169 - r_square: -175.8453 - soft_acc: 0.0013 - rmse: 2.9979 - val_loss: 0.8893 - val_r_square: -4.7291 - val_soft_acc: 0.0000e+00 - val_rmse: 0.4929\n",
      "Epoch 2/3\n",
      "100/100 [==============================] - 31s 309ms/step - loss: 1.1017 - r_square: -7.8832 - soft_acc: 0.0054 - rmse: 0.7348 - val_loss: 0.8665 - val_r_square: -4.3131 - val_soft_acc: 0.0000e+00 - val_rmse: 0.4747\n",
      "Epoch 3/3\n",
      "100/100 [==============================] - 30s 302ms/step - loss: 0.8758 - r_square: -3.5263 - soft_acc: 0.0091 - rmse: 0.5181 - val_loss: 0.8047 - val_r_square: -2.9418 - val_soft_acc: 0.0200 - val_rmse: 0.4089\n"
     ]
    }
   ],
   "source": [
    "# refreshing the dataset model\n",
    "dataset = mneflow.Dataset(meta, train_batch=100, class_subset=None, pick_channels=None, decim=None)\n",
    "\n",
    "model = keras_models.VARCNN(graph_specs, dataset)\n",
    "loss_f = tf.compat.v1.losses.mean_squared_error\n",
    "\n",
    "# % builtin\n",
    "model.compile(loss=loss_f, optimizer=optim, metrics=[r_square, soft_acc, rmse])\n",
    "\n",
    "stop_early = tf.keras.callbacks.EarlyStopping(monitor='val_loss', min_delta=1e-6, patience=6)\n",
    "\n",
    "#train the model\n",
    "history = model.fit(dataset.train, validation_data=dataset.val, epochs=3, steps_per_epoch=100,\n",
    "                    validation_steps=1, callbacks=[stop_early], verbose=1)"
   ]
  },
  {
   "cell_type": "code",
   "execution_count": 13,
   "metadata": {
    "scrolled": true
   },
   "outputs": [
    {
     "name": "stdout",
     "output_type": "stream",
     "text": [
      "Model: \"var-cnn\"\n",
      "_________________________________________________________________\n",
      "Layer (type)                 Output Shape              Param #   \n",
      "=================================================================\n",
      "de-mix (DeMixing)            multiple                  3296      \n",
      "_________________________________________________________________\n",
      "conv (VARConv)               multiple                  65568     \n",
      "_________________________________________________________________\n",
      "fc (Dense)                   multiple                  609       \n",
      "=================================================================\n",
      "Total params: 69,473\n",
      "Trainable params: 69,473\n",
      "Non-trainable params: 0\n",
      "_________________________________________________________________\n",
      "\r",
      "1/1 [==============================] - 0s 96ms/step - loss: 0.8401 - r_square: -1.9758 - soft_acc: 0.0000e+00 - rmse: 0.4501\n"
     ]
    }
   ],
   "source": [
    "model.summary()\n",
    "results = model.evaluate(dataset.test, steps=1, verbose=1)"
   ]
  },
  {
   "cell_type": "code",
   "execution_count": 14,
   "metadata": {},
   "outputs": [
    {
     "data": {
      "image/png": "[encoded data removed]",
      "text/plain": [
       "<Figure size 432x288 with 4 Axes>"
      ]
     },
     "metadata": {
      "needs_background": "light"
     },
     "output_type": "display_data"
    }
   ],
   "source": [
    "model.plot_history()"
   ]
  }
 ],
 "metadata": {
  "kernelspec": {
   "display_name": "Python 3",
   "language": "python",
   "name": "python3"
  },
  "language_info": {
   "codemirror_mode": {
    "name": "ipython",
    "version": 3
   },
   "file_extension": ".py",
   "mimetype": "text/x-python",
   "name": "python",
   "nbconvert_exporter": "python",
   "pygments_lexer": "ipython3",
   "version": "3.7.3"
  }
 },
 "nbformat": 4,
 "nbformat_minor": 2
}

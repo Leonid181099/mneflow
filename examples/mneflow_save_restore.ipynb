{
 "cells": [
  {
   "cell_type": "markdown",
   "metadata": {},
   "source": [
    "# MNEflow basic example"
   ]
  },
  {
   "cell_type": "markdown",
   "metadata": {},
   "source": [
    "### This example assumes that basic example notebook was run and processed tfrecords were saved to 'path'."
   ]
  },
  {
   "cell_type": "code",
   "execution_count": 1,
   "metadata": {},
   "outputs": [
    {
     "name": "stdout",
     "output_type": "stream",
     "text": [
      "0.5.4\n"
     ]
    }
   ],
   "source": [
    "import numpy as np\n",
    "import mne\n",
    "from mne.datasets import multimodal\n",
    "import os\n",
    "import tensorflow as tf\n",
    "\n",
    "tf.get_logger().setLevel('ERROR')\n",
    "tf.autograph.set_verbosity(0)\n",
    "mne.set_log_level(verbose='CRITICAL')\n",
    "os.environ['TF_CPP_MIN_LOG_LEVEL'] = '3'\n",
    "\n",
    "import mneflow\n",
    "print(mneflow.__version__)"
   ]
  },
  {
   "cell_type": "markdown",
   "metadata": {},
   "source": [
    "### If we've already imported the data variables 'path' and 'data_id' to reuse the mne_sample_dataset. This won't work if trecords from the basic example were not saved."
   ]
  },
  {
   "cell_type": "code",
   "execution_count": 2,
   "metadata": {},
   "outputs": [
    {
     "name": "stdout",
     "output_type": "stream",
     "text": [
      "Metadata file found, restoring\n"
     ]
    }
   ],
   "source": [
    "import_opt = dict(path='C:\\\\data\\\\',\n",
    "                  data_id='mne_sample_multimodal',\n",
    "                  overwrite=False,\n",
    "                  )\n",
    "\n",
    "#here we use None instead of the first required argument\n",
    "meta = mneflow.produce_tfrecords(None, **import_opt)"
   ]
  },
  {
   "cell_type": "markdown",
   "metadata": {},
   "source": [
    "### Alternatively, we can use path and data_id directly"
   ]
  },
  {
   "cell_type": "code",
   "execution_count": 3,
   "metadata": {},
   "outputs": [],
   "source": [
    "path='C:\\\\data\\\\'\n",
    "data_id='mne_sample_multimodal'\n",
    "meta = mneflow.utils.load_meta(path + data_id)"
   ]
  },
  {
   "cell_type": "markdown",
   "metadata": {},
   "source": [
    "### If metadata contains the trained model (i.e. the model was previously trained) the trained model can be restored using:"
   ]
  },
  {
   "cell_type": "code",
   "execution_count": 4,
   "metadata": {},
   "outputs": [
    {
     "name": "stdout",
     "output_type": "stream",
     "text": [
      "Using class_subset with 7 classes:\n",
      "Subset ratio 1.00, Multiplier 1.00\n",
      "Using class_subset with 7 classes:\n",
      "Subset ratio 1.00, Multiplier 1.00\n",
      "Updating: meta.data\n",
      "Setting reg for dmx, to l1\n",
      "Built: dmx input: (None, 1, 301, 204)\n",
      "Setting reg for tconv, to l1\n",
      "Built: tconv input: (None, 1, 301, 32)\n",
      "Setting reg for fc, to l1\n",
      "Built: fc input: (None, 1, 61, 32)\n"
     ]
    }
   ],
   "source": [
    "model = meta.restore_model()"
   ]
  },
  {
   "cell_type": "markdown",
   "metadata": {},
   "source": [
    "### Restored models can continue training. "
   ]
  },
  {
   "cell_type": "code",
   "execution_count": 5,
   "metadata": {},
   "outputs": [
    {
     "name": "stdout",
     "output_type": "stream",
     "text": [
      "Updating: meta.train_params\n",
      "Class weights:  None\n",
      "Using class_subset with 7 classes:\n",
      "Subset ratio 1.00, Multiplier 1.00\n",
      "Epoch 1/10\n",
      "8/8 - 2s - loss: 0.2812 - cat_ACC: 0.9974 - val_loss: 0.6246 - val_cat_ACC: 0.8899 - 2s/epoch - 217ms/step\n",
      "Epoch 2/10\n",
      "8/8 - 1s - loss: 0.2834 - cat_ACC: 0.9973 - val_loss: 0.6518 - val_cat_ACC: 0.8991 - 774ms/epoch - 97ms/step\n",
      "Epoch 3/10\n",
      "8/8 - 1s - loss: 0.2753 - cat_ACC: 0.9987 - val_loss: 0.6653 - val_cat_ACC: 0.8991 - 974ms/epoch - 122ms/step\n",
      "Epoch 4/10\n",
      "8/8 - 1s - loss: 0.2752 - cat_ACC: 0.9973 - val_loss: 0.6449 - val_cat_ACC: 0.9083 - 727ms/epoch - 91ms/step\n",
      "Using class_subset with 7 classes:\n",
      "Subset ratio 1.00, Multiplier 1.00\n",
      "single_fold with 1 fold(s) completed. \n",
      "\n",
      "              Validation Performance: \n",
      "              Loss: 0.6246 +/- 0.0000.\n",
      "              Metric: 0.8899 +/- 0.0000\n",
      "\n",
      "\n",
      "              Test Performance: \n",
      "              Loss: 0.8452 +/- 0.0000.\n",
      "              Metric: 0.8120 +/- 0.0000\n",
      "Saving updated log to:  C:\\data\\models\\lfcnn_log.csv\n"
     ]
    }
   ],
   "source": [
    "model.train()"
   ]
  },
  {
   "cell_type": "code",
   "execution_count": 6,
   "metadata": {},
   "outputs": [
    {
     "name": "stdout",
     "output_type": "stream",
     "text": [
      "Using class_subset with 7 classes:\n",
      "Subset ratio 1.00, Multiplier 1.00\n",
      "Test set: Loss = 0.8452 Accuracy = 0.8120\n"
     ]
    }
   ],
   "source": [
    "test_loss, test_acc = model.evaluate(meta.data['test_paths'])\n",
    "print(\"Test set: Loss = {:.4f} Accuracy = {:.4f}\".format(test_loss, test_acc))"
   ]
  },
  {
   "cell_type": "markdown",
   "metadata": {},
   "source": [
    "### Or predict new inputs"
   ]
  },
  {
   "cell_type": "code",
   "execution_count": 24,
   "metadata": {},
   "outputs": [],
   "source": [
    "X, y = [row for row in model.dataset.val.take(1)][0]\n",
    "y_pred = model.predict_sample(X[0])"
   ]
  },
  {
   "cell_type": "code",
   "execution_count": 28,
   "metadata": {},
   "outputs": [
    {
     "name": "stdout",
     "output_type": "stream",
     "text": [
      "Predicted: 4, Ground truth 4\n"
     ]
    }
   ],
   "source": [
    "print(\"Predicted: {}, Ground truth {}\".format(y_pred[0], np.argmax(y[0])))"
   ]
  }
 ],
 "metadata": {
  "kernelspec": {
   "display_name": "Python 3 (ipykernel)",
   "language": "python",
   "name": "python3"
  },
  "language_info": {
   "codemirror_mode": {
    "name": "ipython",
    "version": 3
   },
   "file_extension": ".py",
   "mimetype": "text/x-python",
   "name": "python",
   "nbconvert_exporter": "python",
   "pygments_lexer": "ipython3",
   "version": "3.8.3"
  }
 },
 "nbformat": 4,
 "nbformat_minor": 2
}
